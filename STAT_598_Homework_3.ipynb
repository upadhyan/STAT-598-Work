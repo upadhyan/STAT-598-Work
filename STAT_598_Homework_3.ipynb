{
  "nbformat": 4,
  "nbformat_minor": 0,
  "metadata": {
    "colab": {
      "name": "STAT 598 Homework 3",
      "provenance": [],
      "collapsed_sections": [],
      "toc_visible": true,
      "mount_file_id": "1ZUeVao6mJmplvH6np_gkORvFD2psG-_y",
      "authorship_tag": "ABX9TyNhZHXC6IcW3S4DspkXA2qd",
      "include_colab_link": true
    },
    "kernelspec": {
      "name": "python3",
      "display_name": "Python 3"
    }
  },
  "cells": [
    {
      "cell_type": "markdown",
      "metadata": {
        "id": "view-in-github",
        "colab_type": "text"
      },
      "source": [
        "<a href=\"https://colab.research.google.com/github/upadhyan/STAT-598-Work/blob/main/STAT_598_Homework_3.ipynb\" target=\"_parent\"><img src=\"https://colab.research.google.com/assets/colab-badge.svg\" alt=\"Open In Colab\"/></a>"
      ]
    },
    {
      "cell_type": "code",
      "metadata": {
        "id": "-5A7muqNn02y"
      },
      "source": [
        "import pandas as pd\n",
        "import cvxpy as cvx\n",
        "import numpy as np\n",
        "import matplotlib.pyplot as plt \n",
        "from PIL import Image\n",
        "import time"
      ],
      "execution_count": null,
      "outputs": []
    },
    {
      "cell_type": "markdown",
      "metadata": {
        "id": "F6NRXzdAoFUd"
      },
      "source": [
        "# Exercise 1\n",
        "## Part a)\n",
        "* By definition tr[$(ABC)$] = tr[$(CAB)$]\n",
        "\n",
        "* Using this property, we can say that tr[$Axx^T$] = tr[$x^TAx$]\n",
        "\n",
        "* Since $x^TAx$ is a 1x1 matrix, tr[$x^TAx$] = $x^TAx$\n",
        "\n",
        "* Therefore [$Axx^T$] = $x^TAx$\n",
        "## Part b)\n",
        "* $\\prod_{n =1}^{N} \\frac{1}{(2\\pi)^{d/2}|\\Sigma|^\\frac{1}{2}} \\times $ exp{$ -\\frac{1}{2}(x_n-\\mu)^T\\Sigma^{-1}(x_n - \\mu)$} =  $\\prod_{n =1}^{N} \\frac{1}{(2\\pi)^{d/2}|\\Sigma|^\\frac{1}{2}} \\times \\prod_{n =1}^{N}$ exp{$ -\\frac{1}{2}(x_n-\\mu)^T\\Sigma^{-1}(x_n - \\mu)$}\n",
        "\n",
        "\n",
        "* $\\prod_{n =1}^{N} \\frac{1}{(2\\pi)^{d/2}|\\Sigma|^\\frac{1}{2}} = \\frac{1}{(2\\pi)^{Nd/2}|\\Sigma|^{N/2}} = \\frac{|\\Sigma|^{-N/2}}{(2\\pi)^{Nd/2}} = \\frac{|\\Sigma^{-1}|^{N/2}}{(2\\pi)^{Nd/2}}$\n",
        "\n",
        "* $\\prod_{n=1}^N e^{a_n} = e^{a_1}e^{a_2}...e^{a_N} = $ \n",
        "exp{$a_1 + a_2 + ... +a_N$} = exp{$\\sum_{n=1}^N a_n$}\n",
        "\n",
        "* $a_n = -\\frac{1}{2}(x_n - \\mu)^T \\Sigma^{-1}(x_n - \\mu)$\n",
        "\n",
        "* $\\prod_{n =1}^{N}$ exp{$ -\\frac{1}{2}(x_n-\\mu)^T\\Sigma^{-1}(x_n - \\mu) = $ exp{$\\sum_{n=1}^N -\\frac{1}{2}(x_n - \\mu)^T \\Sigma^{-1}(x_n - \\mu)$}\n",
        "\n",
        "* $g_x(x_n) = $ tr[$g_x(x_n) $] because $g_x(x_n)$ is a $1 \\times 1 $ matrix\n",
        "\n",
        "\n",
        "\n",
        "* Using the circular property proved in part a) and moving constants outside the summation:\n",
        "\n",
        " - tr[$\\sum_{n=1}^N -\\frac{1}{2}(x_n - \\mu)^T \\Sigma^{-1}(x_n - \\mu)$] = $-\\frac{1}{2}$tr[$-\\frac{1}{2}\\Sigma^{-1}\\sum_{n=1}^N (x_n - \\mu)^T (x_n - \\mu)$] \n",
        "\n",
        "* $p(\\mathscr{D}| \\Sigma) = \\frac{|\\Sigma^{-1}|^{N/2}}{(2\\pi)^{Nd/2}} \\times $ exp{$-\\frac{1}{2}$tr[$\\Sigma^{-1}\\sum_{n=1}^N (x_n - \\mu)^T (x_n - \\mu)$]}\n",
        "\n",
        "## Part c)\n",
        "\n",
        "* $\\sum_{n=1}^N (x_n - \\mu)^T (x_n - \\mu) = N\\tilde{\\Sigma}$\n",
        "\n",
        "* exp{$-\\frac{1}{2}$tr[$\\Sigma^{-1}\\sum_{n=1}^N (x_n - \\mu)^T (x_n - \\mu)$]} = exp{$-\\frac{N}{2}$tr[$\\Sigma^{-1}\\tilde{\\Sigma}$]} = exp{$-\\frac{N}{2}$tr[$A$]} = exp{$-\\frac{N}{2}\\sum_{i=1}^d \\lambda_i$}\n",
        "\n",
        "* $|\\Sigma^{-1}|^{N/2} = |A\\tilde{\\Sigma}^{-1}|^{N/2} = \\frac{1}{|\\tilde{\\Sigma}|^{N/2}}|A|$\n",
        "\n",
        "* $|A| = \\prod_{i=1}^d \\lambda_i$\n",
        "\n",
        "\n",
        "* $p(\\mathscr{D}| \\Sigma) = \\frac{1}{(2\\pi)^{Nd/2}|\\tilde{\\Sigma}|^{N/2}}\\prod_{i=1}^d \\lambda_i$exp{$-\\frac{N}{2}\\sum_{i=1}^d \\lambda_i$}\n",
        "\n",
        "## Part d)\n",
        "* $\\log(p(\\mathscr{D}| \\Sigma)) = -\\frac{Nd}{2}\\log(2\\pi) - \\frac{N}{2}\\log(|\\tilde{\\Sigma}|) + \\frac{N}{2}\\sum_{i=1}^d \\log(\\lambda_i) - \\frac{N}{2}\\sum_{i=1}^d \\lambda_i$\n",
        "\n",
        "* $\\frac{\\partial}{\\partial \\lambda_i} \\log(p(\\mathscr{D}| \\Sigma)) = \\frac{N}{2}\\sum_{i = 1}^d \\frac{1}{\\lambda_i}-d\\frac{N}{2} = 0$\n",
        "\n",
        "* $\\sum_{i = 1}^d \\frac{1}{\\lambda_i} = d$\n",
        "\n",
        "* One case that works is that $\\lambda_1 = \\lambda_2 =...=\\lambda_d = 1$. This means $A = I$\n",
        "\n",
        "## Part e)\n",
        "* $\\hat{\\Sigma}_{ML} A = \\tilde{\\Sigma} $\n",
        "\n",
        "* $A = I \\Rightarrow \\hat{\\Sigma}_{ML} = \\tilde{\\Sigma} = \\frac{1}{N}\\sum_{n=1}^N (x_n -\\mu)(x_n - \\mu)^T$\n",
        "\n",
        "\n",
        "## Part f)\n",
        "Maximize the log-likelihood of this function by creating an optimization problem with $\\mu$ and $\\Sigma$ as optimization variables. To solve this problem you take the derivatives with respect to $\\mu$ and $\\Sigma$ and set them to zero, which would give you a system of equations. We solve to find $\\hat{\\Sigma}_{ML}$.\n",
        "## Part g)\n",
        "The unbiased estimator would be:\n",
        "\n",
        "$\\Sigma = \\frac{1}{N-1}(x-\\hat{\\mu})(x-\\hat{\\mu})^T$\n",
        "\n",
        "\n",
        "# Exercise 2\n",
        "## Prep Steps"
      ]
    },
    {
      "cell_type": "code",
      "metadata": {
        "id": "fGLxy-rKoKR8"
      },
      "source": [
        "train_cat = np.matrix(np.loadtxt('/content/drive/MyDrive/Colab Notebooks/HW3_ECE595/train_cat.txt', delimiter=','))\n",
        "train_grass = np.matrix(np.loadtxt('/content/drive/MyDrive/Colab Notebooks/HW3_ECE595/train_grass.txt', delimiter=','))\n",
        "Y = plt.imread('/content/drive/MyDrive/Colab Notebooks/HW3_ECE595/cat_grass.jpg') / 255\n",
        "truth = plt.imread('/content/drive/MyDrive/Colab Notebooks/HW3_ECE595/truth.png')\n"
      ],
      "execution_count": null,
      "outputs": []
    },
    {
      "cell_type": "markdown",
      "metadata": {
        "id": "mhHrThKqSeEg"
      },
      "source": [
        "## Part a)\n",
        "\n",
        "* $p_{X|Y}(x|C_n) = c_ne^{g_{x,\\mu_n,\\Sigma_n}(x)}$\n",
        "\n",
        "* $c_n = \\frac{1}{(2\\pi)^{d/2}|\\Sigma_n|^{1/2}}$\n",
        "\n",
        "* $g_{x,\\mu_n,\\Sigma_n}(x) = -\\frac{1}{2}(x-\\mu_n)^T\\Sigma_n^{-1}(x-\\mu_n)$\n",
        "\n",
        "* $\\log(p_{Y|X}(C_1|x)) \\gtrless_{C_0}^{C_1}\\log(p_{Y|X}(C_0|x)) \\Rightarrow \\log(p_{X|Y}(x|C_1)) + \\log(p_Y(C_1)) \\gtrless_{C_0}^{C_1} \\log(p_{X|Y}(x|C_0)) + \\log(p_Y(C_0))$\n",
        "\n",
        "* $\\log(p_{X|Y}(x|C_n)) + \\log(p_Y(C_n)) = \\log(c_n) + g_{x,\\mu_n,\\Sigma_n}(x) + \\log(\\pi_n) = -\\frac{d}{2}\\log(2\\pi) - \\frac{1}{2}|\\Sigma_n| + g_{x,\\mu_n,\\Sigma_n}(x) + \\log(\\pi_n)$ \n",
        "\n",
        "* When put in the inequality, the $-\\frac{d}{2}\\log(2\\pi)$ terms cancel out, leaving us with:\n",
        "  - $- \\frac{1}{2}|\\Sigma_1| + g_{x,\\mu_1,\\Sigma_1}(x) + \\log(\\pi_1) \\gtrless_{C_0}^{C_1} - \\frac{1}{2}|\\Sigma_0| + g_{x,\\mu_0,\\Sigma_0}(x) + \\log(\\pi_0)$\n",
        "\n",
        "## Part b)"
      ]
    },
    {
      "cell_type": "code",
      "metadata": {
        "colab": {
          "base_uri": "https://localhost:8080/"
        },
        "id": "WbXwK9GXSLHh",
        "outputId": "3c3c6303-1d5a-4c2a-c64f-090f71fe6005"
      },
      "source": [
        "mu_1 = np.mean(train_cat, axis = 1)\n",
        "mu_0 = np.mean(train_grass, axis = 1)\n",
        "print(\"Mu1\")\n",
        "print(mu_1[0:2])\n",
        "print(\"Mu0\")\n",
        "print(mu_0[0:2])"
      ],
      "execution_count": null,
      "outputs": [
        {
          "output_type": "stream",
          "text": [
            "Mu1\n",
            "[[0.44080734]\n",
            " [0.43871359]]\n",
            "Mu0\n",
            "[[0.48249575]\n",
            " [0.4864399 ]]\n"
          ],
          "name": "stdout"
        }
      ]
    },
    {
      "cell_type": "code",
      "metadata": {
        "colab": {
          "base_uri": "https://localhost:8080/"
        },
        "id": "98ayM8HOSoJ_",
        "outputId": "5554698e-82aa-4de3-dc3d-eaf732a4de24"
      },
      "source": [
        "sigma_0 = np.cov(train_grass)\n",
        "sigma_1 = np.cov(train_cat)\n",
        "\n",
        "print(\"Sigma_0\")\n",
        "print(sigma_0[0:2,0:2])\n",
        "print(\"Sigma_1\")\n",
        "print(sigma_1[0:2,0:2])"
      ],
      "execution_count": null,
      "outputs": [
        {
          "output_type": "stream",
          "text": [
            "Sigma_0\n",
            "[[0.064484   0.0369168 ]\n",
            " [0.0369168  0.06623457]]\n",
            "Sigma_1\n",
            "[[0.04307832 0.03535405]\n",
            " [0.03535405 0.0424875 ]]\n"
          ],
          "name": "stdout"
        }
      ]
    },
    {
      "cell_type": "code",
      "metadata": {
        "colab": {
          "base_uri": "https://localhost:8080/"
        },
        "id": "Ad-PR2k8S85L",
        "outputId": "9f4337f0-b49e-4d69-c62b-e613bed98ef7"
      },
      "source": [
        "K_1 = train_cat.shape[1]\n",
        "K_0 = train_grass.shape[1]\n",
        "pi_1 = K_1 / (K_0 + K_1)\n",
        "pi_0 = K_0 / (K_0 + K_1)\n",
        "print(\"Pi0\")\n",
        "print(pi_0)\n",
        "print(\"Pi1\")\n",
        "print(pi_1)"
      ],
      "execution_count": null,
      "outputs": [
        {
          "output_type": "stream",
          "text": [
            "Pi0\n",
            "0.828650711064863\n",
            "Pi1\n",
            "0.171349288935137\n"
          ],
          "name": "stdout"
        }
      ]
    },
    {
      "cell_type": "markdown",
      "metadata": {
        "id": "q7YKI8CQywWk"
      },
      "source": [
        "## Part c)"
      ]
    },
    {
      "cell_type": "code",
      "metadata": {
        "colab": {
          "base_uri": "https://localhost:8080/",
          "height": 269
        },
        "id": "tOngHfHOSN3K",
        "outputId": "d9d1df6f-3600-4e17-d668-8319d69dad50"
      },
      "source": [
        "sigma_0_inv = np.linalg.inv(sigma_0)\n",
        "sigma_1_inv = np.linalg.inv(sigma_1)\n",
        "lognorm_s1 = np.log(np.linalg.det(sigma_1))\n",
        "lognorm_s0 = np.log(np.linalg.det(sigma_0))\n",
        "sigma_0_inv_m = -.5 * sigma_0_inv\n",
        "sigma_1_inv_m = -.5 * sigma_1_inv\n",
        "pi_det_sum_1 = -.5 * lognorm_s1 + np.log(pi_1)\n",
        "pi_det_sum_0 = -.5 * lognorm_s0 + np.log(pi_0)\n",
        "\n",
        "M, N = Y.shape\n",
        "truth = truth[0:M-8, 0:N-8]\n",
        "prediction = np.zeros((M-8, N-8))\n",
        "positives = 0\n",
        "negatives = 0\n",
        "true_positives = 0\n",
        "false_positives = 0\n",
        "\n",
        "for i in range(M-8):\n",
        "  for j in range(N-8):\n",
        "    block = Y[i:i+8, j:j+8]\n",
        "    block = np.reshape(block, (64, 1))\n",
        "    block_dif1 = block - mu_1\n",
        "    block_dif0 = block - mu_0 \n",
        "    a = block_dif1.T @ sigma_1_inv_m @ block_dif1 + pi_det_sum_1\n",
        "    b = block_dif0.T @ sigma_0_inv_m @ block_dif0 + pi_det_sum_0\n",
        "    if (a[0][0] > b[0][0]):\n",
        "      prediction[i][j] = 1\n",
        "    else:\n",
        "      prediction[i][j] = 0\n",
        "\n",
        "false_positives= np.count_nonzero((truth - prediction) == -1)\n",
        "true_positives = np.count_nonzero((truth + prediction) == 2)\n",
        "positives = np.count_nonzero(truth == 1)\n",
        "negatives =np.count_nonzero(truth == 0)\n",
        "p_d_original = true_positives / positives\n",
        "p_f_original = false_positives / negatives\n",
        "\n",
        "\n",
        "plt.imshow(prediction);"
      ],
      "execution_count": null,
      "outputs": [
        {
          "output_type": "display_data",
          "data": {
            "image/png": "[encoded data removed]",
            "text/plain": [
              "<Figure size 432x288 with 1 Axes>"
            ]
          },
          "metadata": {
            "tags": [],
            "needs_background": "light"
          }
        }
      ]
    },
    {
      "cell_type": "code",
      "metadata": {
        "colab": {
          "base_uri": "https://localhost:8080/"
        },
        "id": "ET2qr1sVmr1A",
        "outputId": "efcd9dbf-c57a-43f7-f6c1-3d9f3cfeb9f1"
      },
      "source": [
        "[p_d_original, p_f_original]"
      ],
      "execution_count": null,
      "outputs": [
        {
          "output_type": "execute_result",
          "data": {
            "text/plain": [
              "[0.8346689721677252, 0.06814805770913457]"
            ]
          },
          "metadata": {
            "tags": []
          },
          "execution_count": 10
        }
      ]
    },
    {
      "cell_type": "markdown",
      "metadata": {
        "id": "XRWUxh7Xy1zH"
      },
      "source": [
        "## Part d)"
      ]
    },
    {
      "cell_type": "code",
      "metadata": {
        "colab": {
          "base_uri": "https://localhost:8080/"
        },
        "id": "k-4upoM-515x",
        "outputId": "3b030dad-3de0-4a08-d990-6fa102f3f160"
      },
      "source": [
        "loss = 0\n",
        "num_pixels = 0\n",
        "for i in range(M-8):\n",
        "  for j in range(N-8):\n",
        "    loss = loss + abs(truth[i,j] - prediction[i,j])\n",
        "    num_pixels += 1\n",
        "MAE = loss / num_pixels\n",
        "MAE"
      ],
      "execution_count": null,
      "outputs": [
        {
          "output_type": "execute_result",
          "data": {
            "text/plain": [
              "0.09109491785400918"
            ]
          },
          "metadata": {
            "tags": []
          },
          "execution_count": 10
        }
      ]
    },
    {
      "cell_type": "markdown",
      "metadata": {
        "id": "RvRa2VRxyq4w"
      },
      "source": [
        "## Part e)"
      ]
    },
    {
      "cell_type": "code",
      "metadata": {
        "colab": {
          "base_uri": "https://localhost:8080/",
          "height": 280
        },
        "id": "B8-3mH5mjVfo",
        "outputId": "1132e325-427b-42a2-f2d5-5f73b804ce68"
      },
      "source": [
        "Y2 = plt.imread('/content/drive/MyDrive/Colab Notebooks/HW3_ECE595/image.jpg') / 255\n",
        "Y2 = Y2[:,:,0]\n",
        "M, N = Y2.shape\n",
        "prediction = np.zeros((M-8, N-8))\n",
        "\n",
        "for i in range(M-8):\n",
        "  for j in range(N-8):\n",
        "    block = Y2[i:i+8, j:j+8]\n",
        "    block = np.reshape(block, (64, 1))\n",
        "    block_dif1 = block - mu_1\n",
        "    block_dif0 = block - mu_0 \n",
        "    a = -.5 * block_dif1.T @ sigma_1_inv @ block_dif1 + np.log(pi_1) - .5 * lognorm_s1 \n",
        "    b = -.5 * block_dif0.T @ sigma_0_inv @ block_dif0 + np.log(pi_0) - .5 * lognorm_s0\n",
        "    if (a[0][0] > b[0][0]):\n",
        "      prediction[i][j] = 1\n",
        "    else:\n",
        "      prediction[i][j] = 0 \n",
        "plt.imshow(prediction)"
      ],
      "execution_count": null,
      "outputs": [
        {
          "output_type": "execute_result",
          "data": {
            "text/plain": [
              "<matplotlib.image.AxesImage at 0x7f42930317d0>"
            ]
          },
          "metadata": {
            "tags": []
          },
          "execution_count": 11
        },
        {
          "output_type": "display_data",
          "data": {
            "image/png": "[encoded data removed]",
            "text/plain": [
              "<Figure size 432x288 with 1 Axes>"
            ]
          },
          "metadata": {
            "tags": [],
            "needs_background": "light"
          }
        }
      ]
    },
    {
      "cell_type": "markdown",
      "metadata": {
        "id": "iu_Ggf6paRsl"
      },
      "source": [
        "This does not perform well. I think it is primarily because:\n",
        "\n",
        "* This picture is darker compared to the picture we trained our classifier with \n",
        "\n",
        "*  The angle of the cat is different compared to the previous picture, which could cause lighting changes."
      ]
    },
    {
      "cell_type": "markdown",
      "metadata": {
        "id": "eJDo-V63ypf4"
      },
      "source": [
        "# Exercise 3\n",
        "## Part a)\n",
        "* $p_{Y|X}(C_1|x) \\gtrless_{C_0}^{C_1} p_{Y|X}(C_0|x)$\n",
        "\n",
        "* $p_{X|Y}(x|C_1)p_Y(C_1) \\gtrless_{C_0}^{C_1} p_{X|Y}(x|C_0)p_Y(C_0)$\n",
        "\n",
        "* $\\frac{p_{X|Y}(x|C_1)}{p_{X|Y}(x|C_0)}\\gtrless_{C_0}^{C_1}  \\frac{p_Y(C_0)}{p_Y(C_1)} = \\frac{\\pi_0}{\\pi_1} = \\tau$\n",
        "## Part b) and c)"
      ]
    },
    {
      "cell_type": "code",
      "metadata": {
        "id": "47I2LZh-quqR"
      },
      "source": [
        "M, N = Y.shape\n",
        "prediction = np.zeros((M-8, N-8))\n",
        "p = np.zeros((M-8, N-8))\n",
        "p_d = np.zeros(200)\n",
        "p_f = np.zeros(200)\n",
        "\n",
        "for i in range(M-8):\n",
        "  for j in range(N-8):\n",
        "    block = Y[i:i+8, j:j+8]\n",
        "    block = np.reshape(block, (64, 1))\n",
        "    block_dif1 = block - mu_1\n",
        "    block_dif0 = block - mu_0 \n",
        "    a = -.5 * block_dif1.T @ sigma_1_inv @ block_dif1 + -.5 * lognorm_s1 \n",
        "    b = -.5 * block_dif0.T @ sigma_0_inv @ block_dif0 + -.5 * lognorm_s0\n",
        "    p[i][j] = a - b"
      ],
      "execution_count": null,
      "outputs": []
    },
    {
      "cell_type": "code",
      "metadata": {
        "id": "RBZ0mCMACjQk"
      },
      "source": [
        "num = 200\n",
        "tau_val = np.linspace(-200,100, num)\n",
        "for v in range(num):\n",
        "  t = tau_val[v]\n",
        "  prediction = np.where(p > t, 1, 0)\n",
        "  false_positives= np.count_nonzero((truth - prediction) == -1)\n",
        "  true_positives = np.count_nonzero((truth + prediction) == 2)\n",
        "  positives = np.count_nonzero(truth == 1)\n",
        "  negatives =np.count_nonzero(truth == 0)\n",
        "  p_d[v] = true_positives / positives\n",
        "  p_f[v] = false_positives / negatives"
      ],
      "execution_count": null,
      "outputs": []
    },
    {
      "cell_type": "code",
      "metadata": {
        "colab": {
          "base_uri": "https://localhost:8080/",
          "height": 265
        },
        "id": "GrmX_ZIwM70r",
        "outputId": "47f2f54c-2553-45d0-f787-4cde354aadc9"
      },
      "source": [
        "plt.plot(p_f, p_d);\n",
        "plt.plot(p_f_original,p_d_original,'ro');\n",
        "plt.show()"
      ],
      "execution_count": null,
      "outputs": [
        {
          "output_type": "display_data",
          "data": {
            "image/png": "[encoded data removed]",
            "text/plain": [
              "<Figure size 432x288 with 1 Axes>"
            ]
          },
          "metadata": {
            "tags": [],
            "needs_background": "light"
          }
        }
      ]
    },
    {
      "cell_type": "markdown",
      "metadata": {
        "id": "JFeShLDcNYl3"
      },
      "source": [
        "## Part d)\n",
        "### i) Creating the classifier"
      ]
    },
    {
      "cell_type": "code",
      "metadata": {
        "id": "0Stv1NoGNX9D"
      },
      "source": [
        "K_1 = train_cat.shape[1]\n",
        "K_0 = train_grass.shape[1]\n",
        "X_1 = train_cat.T\n",
        "X_0 = train_grass.T\n",
        "A = np.vstack([X_1, X_0])\n",
        "b = np.vstack([ np.ones((K_1, 1)), -1 * np.ones((K_0, 1)) ])\n",
        "theta = cvx.Variable((64, 1))\n",
        "objective = cvx.Minimize(cvx.sum_squares(A @ theta - b))\n",
        "prob = cvx.Problem(objective, [])\n",
        "prob.solve()\n",
        "theta = theta.value"
      ],
      "execution_count": null,
      "outputs": []
    },
    {
      "cell_type": "markdown",
      "metadata": {
        "id": "hyjoPIhMPTrq"
      },
      "source": [
        "### ii) Processing Image"
      ]
    },
    {
      "cell_type": "code",
      "metadata": {
        "id": "SpF-ct88Paa7"
      },
      "source": [
        "M, N = Y.shape\n",
        "prediction = np.zeros((M-8, N-8))\n",
        "p_lin = np.zeros((M-8, N-8))\n",
        "p_d_lin = np.zeros(num)\n",
        "p_f_lin = np.zeros(num)\n",
        "\n",
        "for i in range(M-8):\n",
        "  for j in range(N-8):\n",
        "    block = Y[i:i+8, j:j+8]\n",
        "    x = np.reshape(block, (64, 1))\n",
        "    p_lin[i][j] = (theta.T @ x)[0][0]"
      ],
      "execution_count": null,
      "outputs": []
    },
    {
      "cell_type": "code",
      "metadata": {
        "id": "xccP6D9QEOER"
      },
      "source": [
        "num = 200\n",
        "tau_val = np.linspace(-1.3,-.1, num)\n",
        "for v in range(num):\n",
        "  t = tau_val[v]\n",
        "  prediction = np.where(p_lin > t, 1, 0)\n",
        "  false_positives= np.count_nonzero((truth - prediction) == -1)\n",
        "  true_positives = np.count_nonzero((truth + prediction) == 2)\n",
        "  positives = np.count_nonzero(truth == 1)\n",
        "  negatives =np.count_nonzero(truth == 0)\n",
        "  p_d_lin[v] = true_positives / positives\n",
        "  p_f_lin[v] = false_positives / negatives"
      ],
      "execution_count": null,
      "outputs": []
    },
    {
      "cell_type": "code",
      "metadata": {
        "colab": {
          "base_uri": "https://localhost:8080/",
          "height": 265
        },
        "id": "T7lKoOPdRK13",
        "outputId": "d50e51ca-137f-4091-87eb-3b0be674d74e"
      },
      "source": [
        "plt.plot(p_f_lin, p_d_lin);\n",
        "plt.show()"
      ],
      "execution_count": null,
      "outputs": [
        {
          "output_type": "display_data",
          "data": {
            "image/png": "[encoded data removed]",
            "text/plain": [
              "<Figure size 432x288 with 1 Axes>"
            ]
          },
          "metadata": {
            "tags": [],
            "needs_background": "light"
          }
        }
      ]
    }
  ]
}