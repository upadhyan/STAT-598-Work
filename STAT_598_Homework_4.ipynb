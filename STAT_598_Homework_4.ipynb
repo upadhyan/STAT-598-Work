{
  "nbformat": 4,
  "nbformat_minor": 0,
  "metadata": {
    "colab": {
      "name": "STAT 598 Homework 4",
      "provenance": [],
      "collapsed_sections": [],
      "mount_file_id": "1LBwVTO5jBY-StvuwVZCy_t_6uFtenAX_",
      "authorship_tag": "ABX9TyNsH9PC/ZhtLikImdSSqMi2",
      "include_colab_link": true
    },
    "kernelspec": {
      "name": "python3",
      "display_name": "Python 3"
    }
  },
  "cells": [
    {
      "cell_type": "markdown",
      "metadata": {
        "id": "view-in-github",
        "colab_type": "text"
      },
      "source": [
        "<a href=\"https://colab.research.google.com/github/upadhyan/STAT-598-Work/blob/main/STAT_598_Homework_4.ipynb\" target=\"_parent\"><img src=\"https://colab.research.google.com/assets/colab-badge.svg\" alt=\"Open In Colab\"/></a>"
      ]
    },
    {
      "cell_type": "markdown",
      "metadata": {
        "id": "vd68A3tWpBKC"
      },
      "source": [
        "# STAT 598 Homework 4\n",
        "## Nakul Upadhya\n",
        "### Undergraduate (Junior) in Industrial Engineering"
      ]
    },
    {
      "cell_type": "code",
      "metadata": {
        "colab": {
          "base_uri": "https://localhost:8080/"
        },
        "id": "IoDuxjLoPRVR",
        "outputId": "d67d31ac-e872-4c53-f8f6-8a15c3780979"
      },
      "source": [
        "import cvxpy as cvx\n",
        "import pandas as pd\n",
        "import numpy as np\n",
        "import matplotlib.pyplot as plt\n",
        "from numpy.matlib import repmat\n",
        "\n",
        "%cd /content/drive/My\\ Drive/Colab\\ Notebooks/HW4_ECE595/"
      ],
      "execution_count": null,
      "outputs": [
        {
          "output_type": "stream",
          "text": [
            "/content/drive/My Drive/Colab Notebooks/HW4_ECE595\n"
          ],
          "name": "stdout"
        }
      ]
    },
    {
      "cell_type": "markdown",
      "metadata": {
        "id": "mzW0KYqeQm_X"
      },
      "source": [
        "# Exercise 1\n",
        "## Part i)\n",
        "\n",
        "\n",
        "*   $g(x) = 0  = w^Tx + w_0$\n",
        "*   $w^Tx + w_0 = (w_1x_1 + w_2x_2+\\dots+w_nx_n) + w_0$\n",
        "\n",
        "## Part ii)\n",
        "* This would not converge as $h_\\theta(x)$ has an asymptote at x = 1. Therefore the gradient of the loss function will never be zero, therefore $\\theta_k$ will never equal $\\theta_{k+1}$\n",
        "\n",
        "## Part iii)\n",
        "We could square the entire gradient term to make it convex and have a global minima\n",
        "## Part iv)\n",
        "No, a linearly seperable data set does not cause non-convergence for a liner classifier. \n",
        "\n"
      ]
    },
    {
      "cell_type": "markdown",
      "metadata": {
        "id": "Pr0cGMFpQp8p"
      },
      "source": [
        "# Exercise 2\n",
        "\n",
        "\n",
        "$\\newcommand{\\hx}{h_\\theta(x)} \\newcommand{\\grad}{\\nabla_\\theta}\\newcommand{\\tx}{e^{-\\theta^Tx}}$\n",
        "* the logistic loss function could be re-written as $-\\frac{1}{N}\\sum_{n=1}^N y_n\\log(\\frac{\\hx}{1-\\hx}) + \\log(1-\\hx)$\n",
        "* The first term is a linear term, so we know it is convex. Therefore we only need to compute the hessian of the second term\n",
        "* $-\\grad\\log(1-\\hx) = -\\grad log(\\frac{\\tx}{1+\\tx}) $\n",
        "* $-\\grad log(\\frac{\\tx}{1+\\tx}) = -\\grad[-\\theta^Tx - log(1+\\tx)]$\n",
        "*  $=x+\\frac{-\\tx}{1+\\tx}x = \\hx x$\n",
        "* To find the hessian, we calculate the gradient of the gradient\n",
        "* $\\grad^2 \\hx x = (\\frac{1}{(1+\\tx)^2})(-\\tx)x x^T$\n",
        "* $(\\frac{1}{(1+\\tx)^2})(-\\tx)xx^T = \\hx[1-\\hx]x x^T$\n",
        "\n",
        "This is positive definite, since for every $v \\in \\mathbb{R}^d; v[\\hx[1-\\hx]x x^T]v^T = (\\hx[1-\\hx])||v^Tv||^2 \\geq 0$"
      ]
    },
    {
      "cell_type": "markdown",
      "metadata": {
        "id": "4YiFzbdqQrUI"
      },
      "source": [
        "# Exercise 3\n",
        "## Data Prep"
      ]
    },
    {
      "cell_type": "code",
      "metadata": {
        "id": "ec-h0b5yRuhH"
      },
      "source": [
        "class_1 = np.loadtxt('quiz4_class1.txt')\n",
        "class_0 = np.loadtxt('quiz4_class0.txt')\n",
        "N = len(class_0) + len(class_1)\n",
        "c = np.matrix(np.ones(N)).T\n",
        "X = np.vstack((class_0, class_1))\n",
        "X = np.hstack((X, c))\n",
        "y_1 = np.ones(len(class_1))\n",
        "y_0 = np.zeros(len(class_0))\n",
        "y = np.append(y_0, y_1)\n",
        "y = np.matrix(y).T"
      ],
      "execution_count": null,
      "outputs": []
    },
    {
      "cell_type": "markdown",
      "metadata": {
        "id": "nxome6TEUpvj"
      },
      "source": [
        "## Part a)\n",
        "\n",
        "## Part b)"
      ]
    },
    {
      "cell_type": "code",
      "metadata": {
        "colab": {
          "base_uri": "https://localhost:8080/"
        },
        "id": "o-gJIS4kU55x",
        "outputId": "aa005b89-b765-455f-88d4-b8a1198c930c"
      },
      "source": [
        "lambd = .01\n",
        "theta       = cvx.Variable((3,1))\n",
        "loss        = - cvx.sum(cvx.multiply(y, X @ theta)) \\\n",
        "              + cvx.sum(cvx.log_sum_exp( cvx.hstack([np.zeros((N,1)), X @ theta]), axis=1 ) )\n",
        "reg         = cvx.sum_squares(theta)\n",
        "prob        = cvx.Problem(cvx.Minimize(loss/N + lambd*reg))\n",
        "prob.solve()\n",
        "w = theta.value\n",
        "w"
      ],
      "execution_count": null,
      "outputs": [
        {
          "output_type": "execute_result",
          "data": {
            "text/plain": [
              "array([[ 1.15656072],\n",
              "       [-1.04422467],\n",
              "       [-0.02547718]])"
            ]
          },
          "metadata": {
            "tags": []
          },
          "execution_count": 3
        }
      ]
    },
    {
      "cell_type": "markdown",
      "metadata": {
        "id": "PyCp3Ianzrzq"
      },
      "source": [
        "## Part c)"
      ]
    },
    {
      "cell_type": "code",
      "metadata": {
        "colab": {
          "base_uri": "https://localhost:8080/",
          "height": 264
        },
        "id": "uId4YzkUyNUq",
        "outputId": "bdab3f12-e19c-40cc-b18a-1ed987f7873b"
      },
      "source": [
        "x_2 = (-w[2] - w[0]*range(-5,10)) / w[1]\n",
        "\n",
        "plt.scatter(class_1[:,0], class_1[:,1], color ='blue')\n",
        "plt.scatter(class_0[:,0], class_0[:,1], color ='red')\n",
        "plt.plot(range(-5,10), x_2);"
      ],
      "execution_count": null,
      "outputs": [
        {
          "output_type": "display_data",
          "data": {
            "image/png": "[encoded data removed]",
            "text/plain": [
              "<Figure size 432x288 with 1 Axes>"
            ]
          },
          "metadata": {
            "tags": [],
            "needs_background": "light"
          }
        }
      ]
    },
    {
      "cell_type": "markdown",
      "metadata": {
        "id": "xCRkWByE3jK4"
      },
      "source": [
        "## Part d)"
      ]
    },
    {
      "cell_type": "code",
      "metadata": {
        "id": "DDyHMCui1W1a"
      },
      "source": [
        "def fz_comp(pi, x, u, sigma):\n",
        "  dif = x - u\n",
        "  sigma_inv = np.linalg.inv(sigma)\n",
        "  log_det_sigma = np.log(np.linalg.det(sigma))\n",
        "  return  (-.5 * dif.T @ sigma_inv @ dif + np.log(pi) - .5 * log_det_sigma)"
      ],
      "execution_count": null,
      "outputs": []
    },
    {
      "cell_type": "code",
      "metadata": {
        "id": "F8_JFfm_3iPx"
      },
      "source": [
        "X = np.vstack((class_0, class_1))\n",
        "X_t = X.T\n",
        "mu_1 = np.matrix(np.mean(class_1.T, axis = 1)).T\n",
        "mu_0 = np.matrix(np.mean(class_0.T, axis = 1)).T\n",
        "sigma_1 = np.cov(class_1.T)\n",
        "sigma_0 = np.cov(class_0.T)\n",
        "K_1 = len(class_1)\n",
        "K_0 = len(class_0)\n",
        "pi_1 = K_1 / (K_0 + K_1)\n",
        "pi_0 = K_0 / (K_0 + K_1)\n",
        "\n",
        "prediction = np.zeros(N)\n",
        "for i in range(N):\n",
        "  block = np.matrix(X[i,:]).T\n",
        "  a = fz_comp(pi_1, block, mu_1, sigma_1)\n",
        "  b = fz_comp(pi_0, block, mu_0, sigma_0)\n",
        "  if (a[0][0] > b[0][0]):\n",
        "    prediction[i] = 1"
      ],
      "execution_count": null,
      "outputs": []
    },
    {
      "cell_type": "code",
      "metadata": {
        "colab": {
          "base_uri": "https://localhost:8080/",
          "height": 268
        },
        "id": "W-pxL1DiV3hv",
        "outputId": "7a45a0d7-20bc-4063-88c4-f7e182f35a81"
      },
      "source": [
        "n = 100\n",
        "x = np.linspace(-5,10,n)\n",
        "y = np.linspace(-5,10, n)\n",
        "boundary = np.zeros((n,n))\n",
        "\n",
        "for i in range(n):\n",
        "  for j in range(n):\n",
        "    block = np.matrix([x[i], y[j]]).T\n",
        "    a = fz_comp(pi_1, block, mu_1, sigma_1) \n",
        "    b = fz_comp(pi_0, block, mu_0, sigma_0) \n",
        "    if (a[0][0] > b[0][0]):\n",
        "      boundary[i,j] = 1\n",
        "plt.scatter(class_1[:,0], class_1[:,1], color ='blue');\n",
        "plt.scatter(class_0[:,0], class_0[:,1], color ='red');\n",
        "plt.contour(x, y, boundary > 0, linewidths = 1);\n",
        "plt.show()"
      ],
      "execution_count": null,
      "outputs": [
        {
          "output_type": "display_data",
          "data": {
            "image/png": "[encoded data removed]",
            "text/plain": [
              "<Figure size 432x288 with 1 Axes>"
            ]
          },
          "metadata": {
            "tags": [],
            "needs_background": "light"
          }
        }
      ]
    },
    {
      "cell_type": "markdown",
      "metadata": {
        "id": "5StQS-wsQtA2"
      },
      "source": [
        "# Exercise 4\n",
        "## Part a)"
      ]
    },
    {
      "cell_type": "code",
      "metadata": {
        "id": "8SBcJePN8v-D"
      },
      "source": [
        "N = len(class_0) + len(class_1)\n",
        "c = np.matrix(np.ones(N)).T\n",
        "X = np.vstack((class_0, class_1))\n",
        "X = np.hstack((X, c))\n",
        "y_1 = np.ones(len(class_1))\n",
        "y_0 = np.zeros(len(class_0))\n",
        "y = np.append(y_0, y_1)\n",
        "y = np.matrix(y).T\n",
        "h = 1\n",
        "K=np.zeros((N,N))\n",
        "for i in range(N):\n",
        "  for j in range(N):\n",
        "    norm_term = np.power(np.linalg.norm(X[i,:]-X[j,:], 2),2)\n",
        "    K[i,j]  = np.exp(-np.sum(norm_term/h))"
      ],
      "execution_count": null,
      "outputs": []
    },
    {
      "cell_type": "code",
      "metadata": {
        "colab": {
          "base_uri": "https://localhost:8080/"
        },
        "id": "JGH0edy16OCt",
        "outputId": "3259cd2c-84e6-4e7c-f7d5-ac5867ef1807"
      },
      "source": [
        "K[47:52,47:52]"
      ],
      "execution_count": null,
      "outputs": [
        {
          "output_type": "execute_result",
          "data": {
            "text/plain": [
              "array([[1.00000000e+00, 5.35715611e-06, 4.84149599e-04, 4.80194024e-14,\n",
              "        3.78915001e-34],\n",
              "       [5.35715611e-06, 1.00000000e+00, 6.14126673e-03, 6.17895744e-13,\n",
              "        1.72368387e-28],\n",
              "       [4.84149599e-04, 6.14126673e-03, 1.00000000e+00, 1.49787585e-05,\n",
              "        1.92800938e-18],\n",
              "       [4.80194024e-14, 6.17895744e-13, 1.49787585e-05, 1.00000000e+00,\n",
              "        2.70414174e-05],\n",
              "       [3.78915001e-34, 1.72368387e-28, 1.92800938e-18, 2.70414174e-05,\n",
              "        1.00000000e+00]])"
            ]
          },
          "metadata": {
            "tags": []
          },
          "execution_count": 10
        }
      ]
    },
    {
      "cell_type": "markdown",
      "metadata": {
        "id": "xqGpHyUfNki-"
      },
      "source": [
        "## Part b)\n",
        "## Part c)"
      ]
    },
    {
      "cell_type": "code",
      "metadata": {
        "colab": {
          "base_uri": "https://localhost:8080/"
        },
        "id": "Zysug48F--C-",
        "outputId": "821051e3-0854-4098-83aa-54baa7f6cfa0"
      },
      "source": [
        "lambd = 0.01\n",
        "alpha = cvx.Variable((N,1))\n",
        "loss = -cvx.sum(y.T @ K @ alpha) \\\n",
        "        + cvx.sum(cvx.log_sum_exp(cvx.hstack([np.zeros((N,1)), K @ alpha]), axis = 1))\n",
        "reg = cvx.sum(cvx.quad_form(alpha, K))\n",
        "prob = cvx.Problem(cvx.Minimize(loss / N + lambd * reg ))\n",
        "prob.solve()\n",
        "w2 = alpha.value\n",
        "w2[0:2]"
      ],
      "execution_count": null,
      "outputs": [
        {
          "output_type": "execute_result",
          "data": {
            "text/plain": [
              "array([[-0.09361747],\n",
              "       [-0.19132388]])"
            ]
          },
          "metadata": {
            "tags": []
          },
          "execution_count": 11
        }
      ]
    },
    {
      "cell_type": "markdown",
      "metadata": {
        "id": "2m93dM_ONuNY"
      },
      "source": [
        "## Part d)"
      ]
    },
    {
      "cell_type": "code",
      "metadata": {
        "colab": {
          "base_uri": "https://localhost:8080/",
          "height": 285
        },
        "id": "xMMxkRjxHLtT",
        "outputId": "0bfd6e31-3a7e-4040-b141-cbd8f3ba2c36"
      },
      "source": [
        "xset = np.linspace(-5,10,n)\n",
        "yset = np.linspace(-5,10, n)\n",
        "output = np.zeros((100,100))\n",
        "for i in range(100):\n",
        "  for j in range(100):\n",
        "    data = repmat( np.array([xset[j], yset[i], 1]).reshape((1,3)), N, 1)\n",
        "    phi  = np.exp( -np.sum(np.square(X-data), axis=1 )/h )\n",
        "    output[i,j] = np.dot(phi.T, w2)\n",
        "\n",
        "plt.scatter(class_1[:,0], class_1[:,1], color ='blue')\n",
        "plt.scatter(class_0[:,0], class_0[:,1], color ='red')\n",
        "plt.contour(xset, yset, output>0.5, linewidths=2, colors='k')\n"
      ],
      "execution_count": null,
      "outputs": [
        {
          "output_type": "execute_result",
          "data": {
            "text/plain": [
              "<matplotlib.contour.QuadContourSet at 0x7fb30fab7450>"
            ]
          },
          "metadata": {
            "tags": []
          },
          "execution_count": 12
        },
        {
          "output_type": "display_data",
          "data": {
            "image/png": "[encoded data removed]",
            "text/plain": [
              "<Figure size 432x288 with 1 Axes>"
            ]
          },
          "metadata": {
            "tags": [],
            "needs_background": "light"
          }
        }
      ]
    }
  ]
}