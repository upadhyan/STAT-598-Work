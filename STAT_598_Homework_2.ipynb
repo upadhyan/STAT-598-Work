{
  "nbformat": 4,
  "nbformat_minor": 0,
  "metadata": {
    "colab": {
      "name": "STAT 598 Homework 2",
      "provenance": [],
      "collapsed_sections": [],
      "mount_file_id": "1pz-zCWz8JRCkOh_PZW9rkSN1UYmGghI9",
      "authorship_tag": "ABX9TyN4PWru3XEnmc3AuzKAJ6jM",
      "include_colab_link": true
    },
    "kernelspec": {
      "name": "python3",
      "display_name": "Python 3"
    }
  },
  "cells": [
    {
      "cell_type": "markdown",
      "metadata": {
        "id": "view-in-github",
        "colab_type": "text"
      },
      "source": [
        "<a href=\"https://colab.research.google.com/github/upadhyan/STAT-598-Work/blob/main/STAT_598_Homework_2.ipynb\" target=\"_parent\"><img src=\"https://colab.research.google.com/assets/colab-badge.svg\" alt=\"Open In Colab\"/></a>"
      ]
    },
    {
      "cell_type": "code",
      "metadata": {
        "id": "hf4Bm4-j0MfN"
      },
      "source": [
        "import numpy as np\n",
        "import pandas as pd\n",
        "import matplotlib.pyplot as plt\n",
        "import cvxpy as cp\n",
        "import csv\n",
        "from google.colab import drive\n",
        "from sklearn.metrics import recall_score\n",
        "from sklearn.metrics import precision_score"
      ],
      "execution_count": null,
      "outputs": []
    },
    {
      "cell_type": "markdown",
      "metadata": {
        "id": "G_LuY-Wv0Yam"
      },
      "source": [
        "# Problem 1\n"
      ]
    },
    {
      "cell_type": "markdown",
      "metadata": {
        "id": "C0APnUaeZYrJ"
      },
      "source": [
        "Reading in the data"
      ]
    },
    {
      "cell_type": "code",
      "metadata": {
        "id": "CsodGwpW0YFY"
      },
      "source": [
        "male_test=pd.read_csv('drive/My Drive/Colab Notebooks/HW2_ECE595/male_test_data.csv')\n",
        "male_train=pd.read_csv('drive/My Drive/Colab Notebooks/HW2_ECE595/male_train_data.csv')\n",
        "female_test=pd.read_csv('drive/My Drive/Colab Notebooks/HW2_ECE595/female_test_data.csv')\n",
        "female_train=pd.read_csv('drive/My Drive/Colab Notebooks/HW2_ECE595/female_train_data.csv')"
      ],
      "execution_count": null,
      "outputs": []
    },
    {
      "cell_type": "markdown",
      "metadata": {
        "id": "iAdEUjMeZcFH"
      },
      "source": [
        "Printing the unmodified data"
      ]
    },
    {
      "cell_type": "code",
      "metadata": {
        "colab": {
          "base_uri": "https://localhost:8080/"
        },
        "id": "ofS9m6kcV8GU",
        "outputId": "2c04fd62-decd-498a-841a-b8407658acc6"
      },
      "source": [
        "female_train.female_bmi.head(10)"
      ],
      "execution_count": null,
      "outputs": [
        {
          "output_type": "execute_result",
          "data": {
            "text/plain": [
              "0    28.2\n",
              "1    22.2\n",
              "2    27.1\n",
              "3    28.1\n",
              "4    25.5\n",
              "5    23.0\n",
              "6    35.6\n",
              "7    31.1\n",
              "8    24.6\n",
              "9    43.0\n",
              "Name: female_bmi, dtype: float64"
            ]
          },
          "metadata": {
            "tags": []
          },
          "execution_count": 3
        }
      ]
    },
    {
      "cell_type": "code",
      "metadata": {
        "colab": {
          "base_uri": "https://localhost:8080/"
        },
        "id": "kowxvuttWswb",
        "outputId": "fb219ce1-bcc7-4eb5-abf7-fe6c0ddddc7e"
      },
      "source": [
        "female_train.female_stature_mm.head(10)"
      ],
      "execution_count": null,
      "outputs": [
        {
          "output_type": "execute_result",
          "data": {
            "text/plain": [
              "0    1563.0\n",
              "1    1716.0\n",
              "2    1484.0\n",
              "3    1651.0\n",
              "4    1548.0\n",
              "5    1665.0\n",
              "6    1564.0\n",
              "7    1676.0\n",
              "8    1690.0\n",
              "9    1704.0\n",
              "Name: female_stature_mm, dtype: float64"
            ]
          },
          "metadata": {
            "tags": []
          },
          "execution_count": 4
        }
      ]
    },
    {
      "cell_type": "code",
      "metadata": {
        "colab": {
          "base_uri": "https://localhost:8080/"
        },
        "id": "REZ-5xeOWzTX",
        "outputId": "fbee4b12-5759-454d-f4e5-c1c5b50eacd0"
      },
      "source": [
        "male_train.male_bmi.head(10)"
      ],
      "execution_count": null,
      "outputs": [
        {
          "output_type": "execute_result",
          "data": {
            "text/plain": [
              "0    30.0\n",
              "1    25.6\n",
              "2    24.2\n",
              "3    27.4\n",
              "4    25.9\n",
              "5    25.3\n",
              "6    22.7\n",
              "7    25.4\n",
              "8    34.1\n",
              "9    33.4\n",
              "Name: male_bmi, dtype: float64"
            ]
          },
          "metadata": {
            "tags": []
          },
          "execution_count": 9
        }
      ]
    },
    {
      "cell_type": "code",
      "metadata": {
        "colab": {
          "base_uri": "https://localhost:8080/"
        },
        "id": "xmYi4WOaW2zy",
        "outputId": "f0bb6048-e33b-4ff8-aa69-2939afd46feb"
      },
      "source": [
        "male_train.male_stature_mm.head(10)"
      ],
      "execution_count": null,
      "outputs": [
        {
          "output_type": "execute_result",
          "data": {
            "text/plain": [
              "0    1679.0\n",
              "1    1586.0\n",
              "2    1773.0\n",
              "3    1816.0\n",
              "4    1809.0\n",
              "5    1662.0\n",
              "6    1829.0\n",
              "7    1686.0\n",
              "8    1761.0\n",
              "9    1797.0\n",
              "Name: male_stature_mm, dtype: float64"
            ]
          },
          "metadata": {
            "tags": []
          },
          "execution_count": 10
        }
      ]
    },
    {
      "cell_type": "markdown",
      "metadata": {
        "id": "xZszqwXOZqF0"
      },
      "source": [
        "Editing the columns to make them better for cvx"
      ]
    },
    {
      "cell_type": "code",
      "metadata": {
        "id": "SCTsqGVeZvbY"
      },
      "source": [
        "male_train.male_stature_mm = male_train.male_stature_mm * .001\n",
        "male_test.male_stature_mm = male_test.male_stature_mm * .001\n",
        "female_train.female_stature_mm = female_train.female_stature_mm * .001\n",
        "female_test.female_stature_mm = female_test.female_stature_mm * .001\n",
        "\n",
        "male_train.male_bmi = male_train.male_bmi * .1\n",
        "male_test.male_bmi = male_test.male_bmi * .1\n",
        "female_train.female_bmi = female_train.female_bmi *.1\n",
        "female_test.female_bmi = female_test.female_bmi *.1"
      ],
      "execution_count": null,
      "outputs": []
    },
    {
      "cell_type": "markdown",
      "metadata": {
        "id": "jBGOqnkzXd3k"
      },
      "source": [
        "# Problem 2\n",
        "### Data Prep\n"
      ]
    },
    {
      "cell_type": "code",
      "metadata": {
        "colab": {
          "base_uri": "https://localhost:8080/",
          "height": 419
        },
        "id": "tcMmyBE9pAEg",
        "outputId": "53be8ae0-e711-4492-d3b8-a9fcceef3f68"
      },
      "source": [
        "y_train = np.concatenate([np.ones(len(male_train)), \n",
        "                         np.ones(len(female_train)) * -1])\n",
        "y_test = np.concatenate([np.ones(len(male_test)), \n",
        "                         np.ones(len(female_test)) * -1])\n",
        "labels = ['index', 'BMI', 'Stature']\n",
        "male_train.columns = labels\n",
        "male_test.columns = labels\n",
        "female_train.columns = labels\n",
        "female_test.columns = labels\n",
        "X_train = pd.concat([male_train, female_train]).drop(columns = 'index')\n",
        "X_test = pd.concat([male_test, female_test]).drop(columns = 'index')\n",
        "X_test.insert(0,'c', np.ones(len(X_test)))\n",
        "X_train.insert(0, 'c', np.ones(len(X_train)))\n",
        "X_train"
      ],
      "execution_count": null,
      "outputs": [
        {
          "output_type": "execute_result",
          "data": {
            "text/html": [
              "<div>\n",
              "<style scoped>\n",
              "    .dataframe tbody tr th:only-of-type {\n",
              "        vertical-align: middle;\n",
              "    }\n",
              "\n",
              "    .dataframe tbody tr th {\n",
              "        vertical-align: top;\n",
              "    }\n",
              "\n",
              "    .dataframe thead th {\n",
              "        text-align: right;\n",
              "    }\n",
              "</style>\n",
              "<table border=\"1\" class=\"dataframe\">\n",
              "  <thead>\n",
              "    <tr style=\"text-align: right;\">\n",
              "      <th></th>\n",
              "      <th>c</th>\n",
              "      <th>BMI</th>\n",
              "      <th>Stature</th>\n",
              "    </tr>\n",
              "  </thead>\n",
              "  <tbody>\n",
              "    <tr>\n",
              "      <th>0</th>\n",
              "      <td>1.0</td>\n",
              "      <td>3.00</td>\n",
              "      <td>1.679</td>\n",
              "    </tr>\n",
              "    <tr>\n",
              "      <th>1</th>\n",
              "      <td>1.0</td>\n",
              "      <td>2.56</td>\n",
              "      <td>1.586</td>\n",
              "    </tr>\n",
              "    <tr>\n",
              "      <th>2</th>\n",
              "      <td>1.0</td>\n",
              "      <td>2.42</td>\n",
              "      <td>1.773</td>\n",
              "    </tr>\n",
              "    <tr>\n",
              "      <th>3</th>\n",
              "      <td>1.0</td>\n",
              "      <td>2.74</td>\n",
              "      <td>1.816</td>\n",
              "    </tr>\n",
              "    <tr>\n",
              "      <th>4</th>\n",
              "      <td>1.0</td>\n",
              "      <td>2.59</td>\n",
              "      <td>1.809</td>\n",
              "    </tr>\n",
              "    <tr>\n",
              "      <th>...</th>\n",
              "      <td>...</td>\n",
              "      <td>...</td>\n",
              "      <td>...</td>\n",
              "    </tr>\n",
              "    <tr>\n",
              "      <th>1659</th>\n",
              "      <td>1.0</td>\n",
              "      <td>2.79</td>\n",
              "      <td>1.635</td>\n",
              "    </tr>\n",
              "    <tr>\n",
              "      <th>1660</th>\n",
              "      <td>1.0</td>\n",
              "      <td>3.14</td>\n",
              "      <td>1.655</td>\n",
              "    </tr>\n",
              "    <tr>\n",
              "      <th>1661</th>\n",
              "      <td>1.0</td>\n",
              "      <td>2.79</td>\n",
              "      <td>1.573</td>\n",
              "    </tr>\n",
              "    <tr>\n",
              "      <th>1662</th>\n",
              "      <td>1.0</td>\n",
              "      <td>2.13</td>\n",
              "      <td>1.432</td>\n",
              "    </tr>\n",
              "    <tr>\n",
              "      <th>1663</th>\n",
              "      <td>1.0</td>\n",
              "      <td>2.74</td>\n",
              "      <td>1.651</td>\n",
              "    </tr>\n",
              "  </tbody>\n",
              "</table>\n",
              "<p>3224 rows × 3 columns</p>\n",
              "</div>"
            ],
            "text/plain": [
              "        c   BMI  Stature\n",
              "0     1.0  3.00    1.679\n",
              "1     1.0  2.56    1.586\n",
              "2     1.0  2.42    1.773\n",
              "3     1.0  2.74    1.816\n",
              "4     1.0  2.59    1.809\n",
              "...   ...   ...      ...\n",
              "1659  1.0  2.79    1.635\n",
              "1660  1.0  3.14    1.655\n",
              "1661  1.0  2.79    1.573\n",
              "1662  1.0  2.13    1.432\n",
              "1663  1.0  2.74    1.651\n",
              "\n",
              "[3224 rows x 3 columns]"
            ]
          },
          "metadata": {
            "tags": []
          },
          "execution_count": 6
        }
      ]
    },
    {
      "cell_type": "markdown",
      "metadata": {
        "id": "WaHLTQItOIVQ"
      },
      "source": [
        "### Part A:Derivation of $\\hat{\\theta}$\n",
        "$\\nabla_\\theta \\hat{\\theta}= 0 = \\nabla_\\theta \\mathbb{||y - X\\hat{\\theta}||^2}$\n",
        "\n",
        "$0 = -2\\mathbb{X}^T(\\mathbb{y-X\\hat{\\theta}})$\n",
        "\n",
        "$0 = -2\\mathbb{X}^Ty+2\\mathbb{X}^T\\mathbb{X\\hat{\\theta}}$\n",
        "\n",
        "$\\hat{\\theta} = (\\mathbb{X}^T\\mathbb{X})^{-1}\\mathbb{X}^T\\mathbb{y}$\n",
        "### Part B: Implentation of A"
      ]
    },
    {
      "cell_type": "code",
      "metadata": {
        "colab": {
          "base_uri": "https://localhost:8080/"
        },
        "id": "kuLV3EZ6OiUa",
        "outputId": "ae97a289-93f0-4b71-f125-05200c9b19ad"
      },
      "source": [
        "#Turn df into np array\n",
        "X = np.matrix(X_train.values)\n",
        "y = np.matrix(y_train).transpose()\n",
        "X_t = np.transpose(X)\n",
        "inv_term = np.linalg.inv(np.matmul(X_t,X))\n",
        "invtimeXt = np.matmul(inv_term, X_t)\n",
        "theta = np.matmul(invtimeXt, y)\n",
        "theta"
      ],
      "execution_count": null,
      "outputs": [
        {
          "output_type": "execute_result",
          "data": {
            "text/plain": [
              "matrix([[-10.7017505 ],\n",
              "        [ -0.12339677],\n",
              "        [  6.67486843]])"
            ]
          },
          "metadata": {
            "tags": []
          },
          "execution_count": 7
        }
      ]
    },
    {
      "cell_type": "markdown",
      "metadata": {
        "id": "9evr684GT3hW"
      },
      "source": [
        "### Part C: CVX Linear Model"
      ]
    },
    {
      "cell_type": "code",
      "metadata": {
        "colab": {
          "base_uri": "https://localhost:8080/"
        },
        "id": "9hgDcaIlUbMj",
        "outputId": "bf6eebc9-ec57-4443-e1af-4e387774057e"
      },
      "source": [
        "theta = cp.Variable([3,1])\n",
        "objective = cp.Minimize(cp.sum_squares(X*theta - y))\n",
        "prob = cp.Problem(objective, [])\n",
        "prob.solve()\n",
        "theta.value"
      ],
      "execution_count": null,
      "outputs": [
        {
          "output_type": "execute_result",
          "data": {
            "text/plain": [
              "array([[-10.7017505 ],\n",
              "       [ -0.12339677],\n",
              "       [  6.67486843]])"
            ]
          },
          "metadata": {
            "tags": []
          },
          "execution_count": 8
        }
      ]
    },
    {
      "cell_type": "markdown",
      "metadata": {
        "id": "HcDpZjCLeS88"
      },
      "source": [
        "### Part D: Gradient Descent Derivation\n",
        "$\\nabla \\epsilon_{train}^k = \\nabla_\\theta \\mathbb{||y - X\\theta||^2} = -2\\mathbb{X}^T(\\mathbb{y-X\\theta})$\n",
        "\n",
        "$d = -\\nabla \\epsilon_{train}^k$\n",
        "\n",
        "$\\alpha  = \\frac{\\nabla J(\\theta)^T d}{(\\mathbb{X}^T\\mathbb{X}d)^Td}$\n",
        "\n",
        "The Gradient descent equation is: \n",
        "$\\theta^{k+1} = \\theta^{k} + \\alpha \\nabla J(\\theta)$\n",
        "\n",
        "### Part E & F: Gradient Descent Implementation and Loss\n"
      ]
    },
    {
      "cell_type": "code",
      "metadata": {
        "id": "kYwVHNV3eRRf",
        "colab": {
          "base_uri": "https://localhost:8080/"
        },
        "outputId": "f1e3e81a-07fb-433c-e5b3-1fb777f0dc39"
      },
      "source": [
        "theta = np.zeros([3,1])\n",
        "cost = []\n",
        "for k in range(0,50000):\n",
        "  #alpha = 0.01\n",
        "  grad = -(X_t* (y - X * theta))\n",
        "  d = -grad\n",
        "  alpha_0 = (grad.transpose() * d) /  ((X_t * X * d).transpose() * d) \n",
        "  theta = theta + alpha_0[0,0] * grad\n",
        "  cost.append(np.linalg.norm(y-X*theta)**2 / X.shape[0])\n",
        "theta\n"
      ],
      "execution_count": null,
      "outputs": [
        {
          "output_type": "execute_result",
          "data": {
            "text/plain": [
              "matrix([[-10.7017505 ],\n",
              "        [ -0.12339677],\n",
              "        [  6.67486843]])"
            ]
          },
          "metadata": {
            "tags": []
          },
          "execution_count": 9
        }
      ]
    },
    {
      "cell_type": "code",
      "metadata": {
        "colab": {
          "base_uri": "https://localhost:8080/",
          "height": 265
        },
        "id": "s8u3_AGPBY9y",
        "outputId": "063a5a11-54b8-4ba4-bbe4-17f80b7add79"
      },
      "source": [
        "plt.plot(range(0,50000), cost);"
      ],
      "execution_count": null,
      "outputs": [
        {
          "output_type": "display_data",
          "data": {
            "image/png": "[encoded data removed]",
            "text/plain": [
              "<Figure size 432x288 with 1 Axes>"
            ]
          },
          "metadata": {
            "tags": [],
            "needs_background": "light"
          }
        }
      ]
    },
    {
      "cell_type": "markdown",
      "metadata": {
        "id": "W6ap2zNGLJhC"
      },
      "source": [
        "### Part G & H: Momentum Method and Loss"
      ]
    },
    {
      "cell_type": "code",
      "metadata": {
        "colab": {
          "base_uri": "https://localhost:8080/",
          "height": 293
        },
        "id": "hK8bIDjwLRuT",
        "outputId": "301310ee-4f40-4ef3-afec-4692a6442f9b"
      },
      "source": [
        "theta = np.ones([3,1])\n",
        "theta_back = np.ones([3,1])\n",
        "grad_back = -(X_t* (y - X * theta))\n",
        "beta = 0.9\n",
        "cost = []\n",
        "for k in range(1, 50000):\n",
        "  grad = -(X_t* (y - X * theta))\n",
        "  d = -grad\n",
        "  alpha = (grad.transpose() * d) /  ((X_t * X * d).transpose() * d) \n",
        "  theta = theta + alpha[0,0] * (beta * grad_back + (1-beta) * grad)\n",
        "  grad_back = grad\n",
        "  cost.append(np.linalg.norm(y-X*theta)**2 / X.shape[0])\n",
        "plt.plot(range(1,50000), cost)"
      ],
      "execution_count": null,
      "outputs": [
        {
          "output_type": "execute_result",
          "data": {
            "text/plain": [
              "[<matplotlib.lines.Line2D at 0x7f7405d357b8>]"
            ]
          },
          "metadata": {
            "tags": []
          },
          "execution_count": 12
        },
        {
          "output_type": "display_data",
          "data": {
            "image/png": "[encoded data removed]",
            "text/plain": [
              "<Figure size 432x288 with 1 Axes>"
            ]
          },
          "metadata": {
            "tags": [],
            "needs_background": "light"
          }
        }
      ]
    },
    {
      "cell_type": "markdown",
      "metadata": {
        "id": "4uvc79XI7iNJ"
      },
      "source": [
        "# Problem 3: Visualization and Testing\n",
        "### Part A"
      ]
    },
    {
      "cell_type": "code",
      "metadata": {
        "colab": {
          "base_uri": "https://localhost:8080/",
          "height": 269
        },
        "id": "L95W7HZo77F5",
        "outputId": "3c7f11ae-8601-4d9d-f400-c9738bd5543d"
      },
      "source": [
        "plt.scatter(X_train.BMI.head(len(male_train)), X_train.Stature.head(len(male_train)), marker=\"o\");\n",
        "plt.scatter(X_train.BMI.tail(len(female_train)), X_train.Stature.tail(len(female_train)), marker=\".\", c=\"red\");\n",
        "#x1 = bmi\n",
        "#x2 = Stature\n",
        "x_2 = (-theta[0][0,0] - theta[1][0,0]*range(0,10)) / theta[2][0,0]\n",
        "plt.plot(range(0,10), x_2)\n",
        "plt.show()"
      ],
      "execution_count": null,
      "outputs": [
        {
          "output_type": "display_data",
          "data": {
            "image/png": "[encoded data removed]",
            "text/plain": [
              "<Figure size 432x288 with 1 Axes>"
            ]
          },
          "metadata": {
            "tags": [],
            "needs_background": "light"
          }
        }
      ]
    },
    {
      "cell_type": "markdown",
      "metadata": {
        "id": "NqixVzXW6nVU"
      },
      "source": [
        "### Part B\n",
        "\n"
      ]
    },
    {
      "cell_type": "code",
      "metadata": {
        "colab": {
          "base_uri": "https://localhost:8080/"
        },
        "id": "udWeNGkb72Qo",
        "outputId": "87388058-4fd0-4653-839d-9806155a0da1"
      },
      "source": [
        "X = np.matrix(X_test.values)\n",
        "y = np.matrix(y_test).transpose()\n",
        "prediction = X*theta\n",
        "\n",
        "prediction[prediction >= 0] = 1\n",
        "prediction[prediction < 0] = -1\n",
        "compare_vector = y - prediction\n",
        "type_1 = np.sum(compare_vector == -2) / len(compare_vector)\n",
        "type_2 = np.sum(compare_vector == 2) / len(compare_vector)\n",
        "print(\"Type 1 Error: \")\n",
        "print(type_1)\n",
        "print(\"Type 2 Error: \")\n",
        "print(type_2)"
      ],
      "execution_count": null,
      "outputs": [
        {
          "output_type": "stream",
          "text": [
            "Type 1 Error: \n",
            "0.07085828343313373\n",
            "Type 2 Error: \n",
            "0.08982035928143713\n"
          ],
          "name": "stdout"
        }
      ]
    },
    {
      "cell_type": "code",
      "metadata": {
        "colab": {
          "base_uri": "https://localhost:8080/"
        },
        "id": "KlU8b6T0-ECG",
        "outputId": "ef9a451f-44aa-4059-a76f-043002cf1e35"
      },
      "source": [
        "precision = precision_score(y, prediction, average='binary')\n",
        "recall = recall_score(y, prediction, average='binary')\n",
        "print(\"Precision: \")\n",
        "print(precision)\n",
        "print(\"Recall: \")\n",
        "print(recall)\n"
      ],
      "execution_count": null,
      "outputs": [
        {
          "output_type": "stream",
          "text": [
            "Precision: \n",
            "0.8526970954356846\n",
            "Recall: \n",
            "0.8203592814371258\n"
          ],
          "name": "stdout"
        }
      ]
    },
    {
      "cell_type": "markdown",
      "metadata": {
        "id": "kiGfXdtj-8qq"
      },
      "source": [
        "# Problem 4: Regularization\n",
        "### Part A"
      ]
    },
    {
      "cell_type": "code",
      "metadata": {
        "colab": {
          "base_uri": "https://localhost:8080/",
          "height": 265
        },
        "id": "p03TJBGCDQX-",
        "outputId": "f63fd952-6d03-4ec3-83ac-e52f51e756a7"
      },
      "source": [
        "X = np.matrix(X_train.values)\n",
        "y = np.matrix(y_train).transpose()\n",
        "lambd = np.arange(0.1,10,0.1)\n",
        "loss = []\n",
        "theta_val = []\n",
        "for l in lambd:\n",
        "  theta = cp.Variable([3,1])\n",
        "  objective = cp.Minimize(cp.sum_squares(X*theta - y) + l*cp.sum_squares(theta))\n",
        "  prob = cp.Problem(objective, [])\n",
        "  prob.solve()\n",
        "  theta = theta.value\n",
        "  loss.append(np.linalg.norm(X*theta - y)**2)\n",
        "  theta_val.append(np.linalg.norm(theta)**2)\n",
        "theta_val = np.array(theta_val)\n",
        "loss = np.array(loss)\n",
        "plt.plot(theta_val, loss);"
      ],
      "execution_count": null,
      "outputs": [
        {
          "output_type": "display_data",
          "data": {
            "image/png": "[encoded data removed]",
            "text/plain": [
              "<Figure size 432x288 with 1 Axes>"
            ]
          },
          "metadata": {
            "tags": [],
            "needs_background": "light"
          }
        }
      ]
    },
    {
      "cell_type": "code",
      "metadata": {
        "colab": {
          "base_uri": "https://localhost:8080/",
          "height": 265
        },
        "id": "n_1lgU_xFVHj",
        "outputId": "5fdd8703-847a-4f19-8ae8-dffe2c637b8a"
      },
      "source": [
        "plt.plot(lambd, loss);"
      ],
      "execution_count": null,
      "outputs": [
        {
          "output_type": "display_data",
          "data": {
            "image/png": "[encoded data removed]",
            "text/plain": [
              "<Figure size 432x288 with 1 Axes>"
            ]
          },
          "metadata": {
            "tags": [],
            "needs_background": "light"
          }
        }
      ]
    },
    {
      "cell_type": "code",
      "metadata": {
        "colab": {
          "base_uri": "https://localhost:8080/",
          "height": 267
        },
        "id": "rR31s9YcGoDN",
        "outputId": "9d4e0cc5-f238-4e8d-e1fa-7d6d8c6654a5"
      },
      "source": [
        "plt.plot(lambd, theta_val);"
      ],
      "execution_count": null,
      "outputs": [
        {
          "output_type": "display_data",
          "data": {
            "image/png": "[encoded data removed]",
            "text/plain": [
              "<Figure size 432x288 with 1 Axes>"
            ]
          },
          "metadata": {
            "tags": [],
            "needs_background": "light"
          }
        }
      ]
    },
    {
      "cell_type": "markdown",
      "metadata": {
        "id": "TT2NwIK3HCoa"
      },
      "source": [
        "### Part B\n",
        "\n",
        "$\\newcommand{\\thehat}{\\hat{\\theta_\\lambda}}\n",
        "\\newcommand{\\loss}{||\\mathbb{X}\\hat{\\theta_\\lambda} - y||_2^2}\n",
        "$\n",
        "Note: $\\lambda$ in this problem refers to $\\lambda$***I***\n",
        "\n",
        "\n",
        "*Optimization Problem 3*\n",
        "\n",
        "\n",
        "The first problem has no lagrange multiplier since there are no constraints, therefore the lagrangian is the function itself. Additionally, there are no constraints, so we can assume primal feasability, therefore we need to satisfy the stationarity assumption.\n",
        "\n",
        "$\\mathcal{L}(\\hat{\\theta_\\lambda}) = \\loss + \\lambda||\\thehat||_2^2$\n",
        "\n",
        "$\\nabla_{\\hat{\\theta_\\lambda}} = 2\\mathbb{X}^T(\\mathbb{X}\n",
        "\\thehat - y) + 2\\lambda\\thehat = 0$\n",
        "\n",
        "$2\\mathbb{X}^Ty = \\thehat(2\\mathbb{X}^T\\mathbb{X}+2\\lambda)$\n",
        "\n",
        "$\\newcommand{\\soltheta}{\\mathbb{X}^Ty(\\mathbb{X}^T\\mathbb{X}+\\lambda)^{-1}}$\n",
        "$\\thehat = \\soltheta$\n",
        "\n",
        "\n",
        "\n",
        "\n",
        "*Optimization Problem 4*\n",
        "\n",
        "At the optimal $\\alpha$, $||\\thehat||_2^2 < \\alpha$\n",
        "\n",
        "$\\mathcal{L}(\\hat{\\theta_\\lambda}, \\gamma_\\alpha) = ||\\mathbb{X}\\hat{\\theta_\\lambda} - y||_2^2 - \\gamma_\\alpha(\\alpha - || \\hat{\\theta_\\lambda}||_2^2 )$\n",
        "\n",
        "$\\nabla_{\\hat{\\theta_\\lambda}}\\mathcal{L}(\\hat{\\theta_\\lambda}, \\gamma_\\alpha) = \\gamma_\\alpha\\hat{\\theta_\\lambda} -\\mathbb{X}^T(\\mathbb{X\\hat{\\theta_\\lambda}} - y) = 0$\n",
        "\n",
        "$\\nabla_{\\gamma_\\alpha}\\mathcal{L}(\\hat{\\theta_\\lambda}, \\gamma_\\epsilon) =|| \\hat{\\theta_\\lambda}||_2^2 - \\alpha = 0$\n",
        "\n",
        "$\\alpha = ||\\soltheta||^2$\n",
        "\n",
        "$\\gamma_\\alpha = \\mathbb{X}^T(\\mathbb{X}\\soltheta-y)(\\soltheta)^{-1}$\n",
        "\n",
        "*Optimization Problem 5*\n",
        "\n",
        "At the optimal $\\gamma$, $||\\mathbb{X}\\hat{\\theta_\\lambda} - y||_2^2 < \\gamma$\n",
        "\n",
        "$\\mathcal{L}(\\hat{\\theta_\\lambda},\\gamma_\\epsilon) = || \\hat{\\theta_\\lambda}||_2^2 - \\gamma_\\epsilon(\\epsilon - ||\\mathbb{X}\\hat{\\theta_\\lambda} - y||_2^2)$\n",
        "\n",
        "$\\nabla_{\\hat{\\theta_\\lambda}}\\mathcal{L}(\\hat{\\theta_\\lambda}, \\gamma_\\epsilon) =\\thehat - \\gamma_\\epsilon(\\mathbb{X}^T\\thehat) = 0$\n",
        "\n",
        "$\\nabla_{\\gamma_\\epsilon}\\mathcal{L}(\\hat{\\theta_\\lambda}, \\gamma_\\epsilon) = ||\\mathbb{X}\\hat{\\theta_\\lambda} - y||_2^2 - \\epsilon = 0$\n",
        "\n",
        "$\\epsilon = ||\\mathbb{X}\\soltheta - y||^2$\n",
        "\n",
        "$\\gamma_\\epsilon = \\soltheta(\\mathbb{X}^T\\soltheta)^{-1}$\n",
        "\n",
        "\n",
        "\n",
        "**Since our gradients with respect to all variables is greater than or equal to zero for all conditions, we can say our function is convex. If a function is convex, there is only a single minimum. If we satisfy the KKT conditions, we will find the optimal solution. Since the solutions above satisfy the KKT conditions, the solutions above are optimal.**\n",
        "\n",
        "\n"
      ]
    }
  ]
}